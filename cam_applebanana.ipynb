{
 "metadata": {
  "language_info": {
   "codemirror_mode": {
    "name": "ipython",
    "version": 3
   },
   "file_extension": ".py",
   "mimetype": "text/x-python",
   "name": "python",
   "nbconvert_exporter": "python",
   "pygments_lexer": "ipython3",
   "version": "3.6.8-final"
  },
  "orig_nbformat": 2,
  "kernelspec": {
   "name": "python_defaultSpec_1600816777521",
   "display_name": "Python 3.6.8 64-bit"
  }
 },
 "nbformat": 4,
 "nbformat_minor": 2,
 "cells": [
  {
   "cell_type": "code",
   "execution_count": 1,
   "metadata": {
    "tags": []
   },
   "outputs": [
    {
     "output_type": "stream",
     "name": "stderr",
     "text": "Using TensorFlow backend.\n"
    }
   ],
   "source": [
    "import numpy as np\n",
    "from PIL import Image\n",
    "import glob\n",
    "import keras\n",
    "import os\n",
    "from keras.models import load_model"
   ]
  },
  {
   "cell_type": "code",
   "execution_count": 8,
   "metadata": {},
   "outputs": [],
   "source": [
    "def img(x):\n",
    "    y = Image.open(x)\n",
    "    y = y.convert(\"RGB\")\n",
    "    y = y.resize((50, 50))\n",
    "    y = np.asarray(y)\n",
    "    return y"
   ]
  },
  {
   "cell_type": "code",
   "execution_count": 9,
   "metadata": {
    "tags": []
   },
   "outputs": [
    {
     "output_type": "stream",
     "name": "stdout",
     "text": "WARNING:tensorflow:Error in loading the saved optimizer state. As a result, your model is starting with a freshly initialized optimizer.\napple\n"
    }
   ],
   "source": [
    "Xt = []\n",
    "testimg = img('ringo.jpg')\n",
    "\n",
    "Xt.append(testimg.flatten())\n",
    "Xt = np.array(Xt)/255\n",
    "\n",
    "model = keras.models.load_model(\"applebanana.hdf5\")\n",
    "result = model.predict_classes(Xt)\n",
    "\n",
    "if result == 0:\n",
    "    print(\"apple\")\n",
    "else:\n",
    "    print(\"banana\")"
   ]
  },
  {
   "cell_type": "code",
   "execution_count": 2,
   "metadata": {},
   "outputs": [],
   "source": [
    "import cv2"
   ]
  },
  {
   "cell_type": "code",
   "execution_count": 11,
   "metadata": {
    "tags": []
   },
   "outputs": [
    {
     "output_type": "stream",
     "name": "stdout",
     "text": "WARNING:tensorflow:Error in loading the saved optimizer state. As a result, your model is starting with a freshly initialized optimizer.\nbanana\nbanana\nbanana\nbanana\nbanana\nbanana\nbanana\nbanana\nbanana\nbanana\nbanana\nbanana\nbanana\nbanana\nbanana\nbanana\nbanana\nbanana\nbanana\nbanana\nbanana\nbanana\nbanana\nbanana\nbanana\nbanana\nbanana\nbanana\nbanana\nbanana\nbanana\nbanana\nbanana\nbanana\nbanana\nbanana\nbanana\nbanana\nbanana\nbanana\nbanana\nbanana\napple\napple\napple\napple\napple\nbanana\nbanana\nbanana\nbanana\nbanana\nbanana\nbanana\nbanana\nbanana\nbanana\napple\napple\nbanana\nbanana\nbanana\nbanana\nbanana\nbanana\nbanana\nbanana\nbanana\nbanana\nbanana\nbanana\napple\napple\napple\napple\napple\napple\napple\napple\napple\napple\napple\napple\napple\napple\napple\napple\napple\nbanana\nbanana\nbanana\nbanana\nbanana\nbanana\nbanana\nbanana\nbanana\nbanana\nbanana\nbanana\nbanana\nbanana\napple\napple\napple\napple\napple\napple\napple\napple\napple\napple\napple\napple\napple\napple\napple\napple\napple\napple\napple\nbanana\nbanana\nbanana\nbanana\nbanana\nbanana\nbanana\nbanana\nbanana\nbanana\nbanana\nbanana\nbanana\nbanana\nbanana\nbanana\nbanana\nbanana\nbanana\nbanana\nbanana\nbanana\nbanana\nbanana\nbanana\nbanana\nbanana\nbanana\nbanana\nbanana\napple\napple\napple\napple\napple\nbanana\nbanana\nbanana\nbanana\napple\napple\napple\napple\napple\napple\napple\napple\nbanana\nbanana\nbanana\nbanana\nbanana\nbanana\nbanana\nbanana\nbanana\nbanana\nbanana\nbanana\nbanana\nbanana\nbanana\nbanana\nbanana\nbanana\nbanana\nbanana\nbanana\nbanana\nbanana\nbanana\nbanana\nbanana\nbanana\nbanana\nbanana\nbanana\nbanana\nbanana\nbanana\nbanana\nbanana\nbanana\nbanana\nbanana\nbanana\nbanana\nbanana\nbanana\nbanana\nbanana\nbanana\nbanana\nbanana\nbanana\nbanana\nbanana\nbanana\nbanana\nbanana\n"
    }
   ],
   "source": [
    "cap = cv2.VideoCapture(0)\n",
    "model = keras.models.load_model(\"applebanana.hdf5\")\n",
    "while(True):\n",
    "    X = []\n",
    "    ret, frame = cap.read()\n",
    "    \n",
    "    frame_a = cv2.cvtColor(frame, cv2.COLOR_BGR2RGB)\n",
    "    frame_a = cv2.resize(frame_a, (50,50))\n",
    "    frame_a = np.asarray(frame_a)\n",
    "    testimg = frame_a\n",
    "    X.append(testimg.flatten())\n",
    "    X = np.array(X) / 255\n",
    "\n",
    "    result = model.predict_classes(X)\n",
    "\n",
    "    if result == 0:\n",
    "        cv2.putText(frame, \"apple\", (2,50), cv2.FONT_HERSHEY_PLAIN, 4, (0, 0, 255), 5, cv2.LINE_AA )\n",
    "        print(\"apple\")\n",
    "    elif result == 1:\n",
    "        cv2.putText(frame, \"banana\", (2,50), cv2.FONT_HERSHEY_PLAIN, 4, (0, 255, 0), 5, cv2.LINE_AA )\n",
    "        print(\"banana\")\n",
    "    else:\n",
    "        cv2.putText(frame, \"no found\", (2,50), cv2.FONT_HERSHEY_PLAIN, 4, (255, 0, 0), 5, cv2.LINE_AA )\n",
    "\n",
    "        print(\"no found\")\n",
    "\n",
    "    cv2.imshow(\"frame\", frame)\n",
    "    k = cv2.waitKey(1)\n",
    "    if k == 27: break\n",
    "\n",
    "cap.release()\n",
    "cv2.destroyAllWindows()\n",
    "\n",
    "    "
   ]
  },
  {
   "cell_type": "code",
   "execution_count": 8,
   "metadata": {
    "tags": []
   },
   "outputs": [
    {
     "output_type": "stream",
     "name": "stdout",
     "text": "WARNING:tensorflow:Error in loading the saved optimizer state. As a result, your model is starting with a freshly initialized optimizer.\n"
    }
   ],
   "source": [
    "cap = cv2.VideoCapture(0)\n",
    "model = keras.models.load_model(\"applebanana.hdf5\")\n",
    "while(True):\n",
    "    X = []\n",
    "    ret, frame = cap.read()\n",
    "    \n",
    "    frame_a = cv2.cvtColor(frame, cv2.COLOR_BGR2RGB)\n",
    "    frame_a = cv2.resize(frame_a, (50,50))\n",
    "    frame_a = np.asarray(frame_a)\n",
    "    testimg = frame_a\n",
    "    X.append(testimg.flatten())\n",
    "    X = np.array(X) / 255\n",
    "\n",
    "    result = model.predict(X)\n",
    "    i = np.argmax(result[0,])\n",
    "    j = result[0, i]\n",
    "\n",
    "    if j < 0.8:\n",
    "        cv2.putText(frame, \"no found\", (2,50), cv2.FONT_HERSHEY_PLAIN, 4, (255, 0, 0), 5, cv2.LINE_AA )\n",
    "        #print(\"no\")\n",
    "        cv2.imshow(\"frame\", frame)\n",
    "        k = cv2.waitKey(1)\n",
    "        if k == 27: break\n",
    "        continue\n",
    "\n",
    "\n",
    "    if i == 0:\n",
    "        cv2.putText(frame, \"apple:\"+ str(j), (2,50), cv2.FONT_HERSHEY_PLAIN, 4, (0, 0, 255), 5, cv2.LINE_AA )\n",
    "        \n",
    "    elif i == 1:\n",
    "        cv2.putText(frame, \"banana:\" + str(j), (2,50), cv2.FONT_HERSHEY_PLAIN, 4, (0, 255, 0), 5, cv2.LINE_AA )\n",
    "        \n",
    "    else:\n",
    "        cv2.putText(frame, \"no found\", (2,50), cv2.FONT_HERSHEY_PLAIN, 4, (255, 0, 0), 5, cv2.LINE_AA )\n",
    "\n",
    "        print(\"no found\")\n",
    "\n",
    "    cv2.imshow(\"frame\", frame)\n",
    "    k = cv2.waitKey(1)\n",
    "    if k == 27: break\n",
    "\n",
    "cap.release()\n",
    "cv2.destroyAllWindows()\n",
    "\n",
    "    "
   ]
  },
  {
   "cell_type": "code",
   "execution_count": null,
   "metadata": {},
   "outputs": [],
   "source": []
  }
 ]
}