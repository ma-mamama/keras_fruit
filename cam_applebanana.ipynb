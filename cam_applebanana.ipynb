{
 "metadata": {
  "language_info": {
   "codemirror_mode": {
    "name": "ipython",
    "version": 3
   },
   "file_extension": ".py",
   "mimetype": "text/x-python",
   "name": "python",
   "nbconvert_exporter": "python",
   "pygments_lexer": "ipython3",
   "version": "3.6.8-final"
  },
  "orig_nbformat": 2,
  "kernelspec": {
   "name": "python_defaultSpec_1600270104489",
   "display_name": "Python 3.6.8 64-bit"
  }
 },
 "nbformat": 4,
 "nbformat_minor": 2,
 "cells": [
  {
   "cell_type": "code",
   "execution_count": 2,
   "metadata": {
    "tags": []
   },
   "outputs": [
    {
     "output_type": "stream",
     "name": "stderr",
     "text": "Using TensorFlow backend.\nC:\\Users\\勝美\\AppData\\Local\\Programs\\Python\\Python36\\lib\\site-packages\\tensorflow\\python\\framework\\dtypes.py:493: FutureWarning: Passing (type, 1) or '1type' as a synonym of type is deprecated; in a future version of numpy, it will be understood as (type, (1,)) / '(1,)type'.\n  _np_qint8 = np.dtype([(\"qint8\", np.int8, 1)])\nC:\\Users\\勝美\\AppData\\Local\\Programs\\Python\\Python36\\lib\\site-packages\\tensorflow\\python\\framework\\dtypes.py:494: FutureWarning: Passing (type, 1) or '1type' as a synonym of type is deprecated; in a future version of numpy, it will be understood as (type, (1,)) / '(1,)type'.\n  _np_quint8 = np.dtype([(\"quint8\", np.uint8, 1)])\nC:\\Users\\勝美\\AppData\\Local\\Programs\\Python\\Python36\\lib\\site-packages\\tensorflow\\python\\framework\\dtypes.py:495: FutureWarning: Passing (type, 1) or '1type' as a synonym of type is deprecated; in a future version of numpy, it will be understood as (type, (1,)) / '(1,)type'.\n  _np_qint16 = np.dtype([(\"qint16\", np.int16, 1)])\nC:\\Users\\勝美\\AppData\\Local\\Programs\\Python\\Python36\\lib\\site-packages\\tensorflow\\python\\framework\\dtypes.py:496: FutureWarning: Passing (type, 1) or '1type' as a synonym of type is deprecated; in a future version of numpy, it will be understood as (type, (1,)) / '(1,)type'.\n  _np_quint16 = np.dtype([(\"quint16\", np.uint16, 1)])\nC:\\Users\\勝美\\AppData\\Local\\Programs\\Python\\Python36\\lib\\site-packages\\tensorflow\\python\\framework\\dtypes.py:497: FutureWarning: Passing (type, 1) or '1type' as a synonym of type is deprecated; in a future version of numpy, it will be understood as (type, (1,)) / '(1,)type'.\n  _np_qint32 = np.dtype([(\"qint32\", np.int32, 1)])\nC:\\Users\\勝美\\AppData\\Local\\Programs\\Python\\Python36\\lib\\site-packages\\tensorflow\\python\\framework\\dtypes.py:502: FutureWarning: Passing (type, 1) or '1type' as a synonym of type is deprecated; in a future version of numpy, it will be understood as (type, (1,)) / '(1,)type'.\n  np_resource = np.dtype([(\"resource\", np.ubyte, 1)])\n"
    }
   ],
   "source": [
    "import numpy as np\n",
    "from PIL import Image\n",
    "import glob\n",
    "import keras\n",
    "import os\n",
    "from keras.models import load_model"
   ]
  },
  {
   "cell_type": "code",
   "execution_count": 1,
   "metadata": {},
   "outputs": [],
   "source": [
    "def img(x):\n",
    "    y = Image.open(x)\n",
    "    y = y.convert(\"RGB\")\n",
    "    y = y.resize((50, 50))\n",
    "    y = np.asarray(y)\n",
    "    return y"
   ]
  },
  {
   "cell_type": "code",
   "execution_count": null,
   "metadata": {
    "tags": []
   },
   "outputs": [],
   "source": [
    "Xt = []\n",
    "testimg = img('cv_banana.png')\n",
    "\n",
    "Xt.append(testimg.flatten())\n",
    "Xt = np.array(Xt)/255\n",
    "\n",
    "model = keras.models.load_model(\"applebanana.hdf5\")\n",
    "result = model.predict_classes(Xt)\n",
    "\n",
    "if result == 0:\n",
    "    print(\"apple\")\n",
    "else:\n",
    "    print(\"banana\")"
   ]
  },
  {
   "cell_type": "code",
   "execution_count": 3,
   "metadata": {},
   "outputs": [],
   "source": [
    "import cv2"
   ]
  },
  {
   "cell_type": "code",
   "execution_count": 5,
   "metadata": {
    "tags": []
   },
   "outputs": [
    {
     "output_type": "stream",
     "name": "stdout",
     "text": "banana\nbanana\nbanana\nbanana\nbanana\nbanana\nbanana\nbanana\nbanana\nbanana\nbanana\nbanana\nbanana\nbanana\nbanana\nbanana\nbanana\nbanana\nbanana\nbanana\nbanana\nbanana\nbanana\nbanana\nbanana\nbanana\nbanana\nbanana\nbanana\nbanana\nbanana\nbanana\nbanana\nbanana\nbanana\nbanana\nbanana\nbanana\nbanana\nbanana\nbanana\nbanana\nbanana\nbanana\nbanana\nbanana\nbanana\nbanana\nbanana\nbanana\nbanana\nbanana\nbanana\nbanana\nbanana\nbanana\nbanana\nbanana\nbanana\nbanana\nbanana\nbanana\nbanana\nbanana\nbanana\nbanana\nbanana\nbanana\nbanana\nbanana\nbanana\nbanana\nbanana\nbanana\nbanana\nbanana\nbanana\nbanana\nbanana\nbanana\nbanana\nbanana\nbanana\nbanana\nbanana\nbanana\nbanana\nbanana\nbanana\nbanana\nbanana\nbanana\nbanana\nbanana\nbanana\nbanana\nbanana\nbanana\nbanana\nbanana\nbanana\nbanana\nbanana\nbanana\nbanana\nbanana\nbanana\nbanana\nbanana\nbanana\nbanana\nbanana\nbanana\nbanana\nbanana\nbanana\nbanana\nbanana\nbanana\nbanana\nbanana\nbanana\nbanana\nbanana\nbanana\nbanana\nbanana\nbanana\nbanana\nbanana\nbanana\nbanana\nbanana\nbanana\nbanana\nbanana\nbanana\nbanana\nbanana\nbanana\nbanana\nbanana\nbanana\nbanana\nbanana\nbanana\nbanana\nbanana\nbanana\nbanana\nbanana\nbanana\nbanana\nbanana\nbanana\nbanana\nbanana\nbanana\nbanana\nbanana\nbanana\nbanana\nbanana\nbanana\nbanana\nbanana\nbanana\nbanana\nbanana\nbanana\nbanana\nbanana\nbanana\nbanana\nbanana\nbanana\nbanana\nbanana\nbanana\nbanana\nbanana\nbanana\nbanana\nbanana\nbanana\nbanana\nbanana\nbanana\nbanana\nbanana\nbanana\nbanana\nbanana\nbanana\nbanana\nbanana\nbanana\nbanana\nbanana\nbanana\nbanana\nbanana\nbanana\nbanana\nbanana\nbanana\nbanana\nbanana\nbanana\nbanana\nbanana\nbanana\nbanana\nbanana\nbanana\nbanana\nbanana\nbanana\nbanana\nbanana\nbanana\nbanana\nbanana\nbanana\nbanana\nbanana\nbanana\nbanana\nbanana\nbanana\nbanana\nbanana\nbanana\nbanana\nbanana\nbanana\nbanana\nbanana\nbanana\nbanana\nbanana\nbanana\nbanana\nbanana\nbanana\nbanana\nbanana\nbanana\nbanana\nbanana\nbanana\nbanana\nbanana\nbanana\nbanana\nbanana\nbanana\nbanana\nbanana\nbanana\nbanana\nbanana\nbanana\nbanana\nbanana\nbanana\nbanana\nbanana\nbanana\nbanana\nbanana\nbanana\nbanana\nbanana\nbanana\nbanana\nbanana\nbanana\nbanana\nbanana\nbanana\nbanana\nbanana\nbanana\nbanana\nbanana\nbanana\nbanana\napple\napple\napple\napple\napple\napple\napple\napple\napple\napple\napple\napple\napple\napple\napple\napple\napple\napple\napple\napple\napple\napple\napple\napple\napple\napple\napple\napple\napple\napple\napple\napple\napple\napple\napple\napple\napple\napple\napple\napple\napple\napple\napple\napple\napple\napple\napple\napple\napple\napple\napple\napple\napple\napple\napple\napple\napple\napple\napple\napple\napple\napple\napple\napple\napple\napple\napple\napple\napple\napple\napple\napple\napple\napple\napple\napple\napple\napple\napple\napple\napple\napple\napple\napple\napple\napple\napple\napple\napple\napple\napple\napple\napple\napple\napple\napple\napple\napple\napple\napple\napple\napple\napple\napple\napple\napple\napple\napple\napple\napple\napple\napple\napple\napple\napple\napple\napple\napple\napple\napple\napple\napple\napple\napple\napple\napple\napple\napple\napple\napple\napple\napple\napple\napple\napple\napple\napple\napple\napple\napple\napple\napple\napple\napple\napple\napple\napple\napple\napple\napple\napple\napple\napple\napple\napple\napple\napple\napple\napple\napple\napple\napple\napple\napple\napple\napple\napple\napple\napple\napple\napple\napple\napple\napple\napple\napple\napple\napple\napple\napple\napple\napple\napple\napple\napple\napple\napple\napple\napple\napple\napple\napple\napple\napple\napple\napple\napple\napple\napple\napple\napple\napple\napple\napple\napple\napple\napple\napple\napple\napple\napple\napple\napple\napple\napple\napple\napple\napple\napple\napple\napple\napple\napple\napple\napple\napple\napple\napple\napple\napple\napple\napple\napple\napple\napple\napple\napple\napple\napple\napple\napple\napple\napple\napple\napple\napple\napple\napple\napple\napple\napple\napple\napple\napple\napple\napple\napple\napple\napple\napple\napple\napple\napple\napple\napple\napple\napple\napple\napple\napple\napple\napple\napple\napple\napple\napple\napple\napple\napple\napple\napple\napple\napple\napple\napple\napple\napple\napple\napple\napple\napple\napple\napple\napple\napple\napple\napple\napple\napple\napple\napple\napple\nbanana\nbanana\nbanana\nbanana\nbanana\nbanana\nbanana\nbanana\nbanana\nbanana\nbanana\nbanana\nbanana\nbanana\nbanana\nbanana\nbanana\nbanana\nbanana\nbanana\nbanana\nbanana\nbanana\nbanana\nbanana\nbanana\nbanana\nbanana\nbanana\nbanana\nbanana\nbanana\nbanana\nbanana\nbanana\nbanana\nbanana\nbanana\nbanana\nbanana\nbanana\nbanana\nbanana\nbanana\nbanana\nbanana\nbanana\nbanana\nbanana\nbanana\nbanana\nbanana\nbanana\nbanana\nbanana\nbanana\nbanana\nbanana\nbanana\nbanana\nbanana\nbanana\nbanana\nbanana\nbanana\nbanana\nbanana\nbanana\nbanana\nbanana\nbanana\nbanana\nbanana\nbanana\nbanana\nbanana\nbanana\nbanana\nbanana\nbanana\nbanana\nbanana\nbanana\nbanana\nbanana\nbanana\nbanana\nbanana\nbanana\nbanana\nbanana\nbanana\nbanana\nbanana\nbanana\nbanana\nbanana\nbanana\nbanana\nbanana\nbanana\nbanana\nbanana\nbanana\nbanana\nbanana\nbanana\nbanana\nbanana\nbanana\nbanana\nbanana\nbanana\nbanana\nbanana\nbanana\nbanana\nbanana\nbanana\nbanana\nbanana\nbanana\nbanana\nbanana\nbanana\nbanana\nbanana\nbanana\nbanana\nbanana\nbanana\nbanana\nbanana\nbanana\nbanana\nbanana\nbanana\nbanana\nbanana\nbanana\nbanana\nbanana\nbanana\nbanana\nbanana\nbanana\nbanana\nbanana\nbanana\nbanana\nbanana\nbanana\nbanana\nbanana\nbanana\nbanana\nbanana\nbanana\nbanana\nbanana\nbanana\nbanana\nbanana\nbanana\nbanana\nbanana\nbanana\nbanana\nbanana\nbanana\nbanana\nbanana\nbanana\nbanana\nbanana\nbanana\nbanana\nbanana\nbanana\nbanana\nbanana\nbanana\nbanana\nbanana\nbanana\nbanana\nbanana\nbanana\nbanana\nbanana\nbanana\nbanana\nbanana\nbanana\nbanana\nbanana\nbanana\nbanana\nbanana\nbanana\nbanana\nbanana\nbanana\nbanana\nbanana\nbanana\nbanana\nbanana\nbanana\nbanana\nbanana\nbanana\nbanana\nbanana\nbanana\nbanana\nbanana\nbanana\nbanana\nbanana\nbanana\nbanana\nbanana\nbanana\nbanana\nbanana\nbanana\nbanana\nbanana\nbanana\nbanana\nbanana\nbanana\nbanana\nbanana\nbanana\nbanana\nbanana\nbanana\nbanana\nbanana\nbanana\nbanana\nbanana\nbanana\nbanana\nbanana\nbanana\nbanana\nbanana\nbanana\nbanana\nbanana\nbanana\nbanana\nbanana\nbanana\nbanana\nbanana\nbanana\nbanana\nbanana\nbanana\nbanana\nbanana\nbanana\nbanana\nbanana\nbanana\nbanana\nbanana\nbanana\nbanana\nbanana\nbanana\nbanana\nbanana\nbanana\nbanana\nbanana\nbanana\nbanana\nbanana\nbanana\nbanana\nbanana\nbanana\nbanana\nbanana\nbanana\nbanana\nbanana\nbanana\nbanana\nbanana\nbanana\nbanana\nbanana\nbanana\nbanana\nbanana\nbanana\nbanana\nbanana\nbanana\napple\napple\napple\napple\napple\napple\napple\napple\napple\nbanana\nbanana\nbanana\nbanana\nbanana\nbanana\nbanana\nbanana\nbanana\nbanana\nbanana\nbanana\nbanana\nbanana\nbanana\nbanana\nbanana\nbanana\nbanana\nbanana\nbanana\nbanana\nbanana\nbanana\nbanana\nbanana\nbanana\nbanana\nbanana\nbanana\nbanana\nbanana\nbanana\nbanana\nbanana\nbanana\nbanana\nbanana\nbanana\nbanana\nbanana\nbanana\nbanana\nbanana\nbanana\nbanana\nbanana\nbanana\nbanana\nbanana\nbanana\nbanana\nbanana\nbanana\nbanana\nbanana\nbanana\nbanana\nbanana\nbanana\nbanana\nbanana\nbanana\nbanana\nbanana\nbanana\nbanana\nbanana\nbanana\nbanana\nbanana\nbanana\nbanana\nbanana\nbanana\nbanana\nbanana\nbanana\nbanana\nbanana\nbanana\nbanana\nbanana\nbanana\nbanana\nbanana\nbanana\nbanana\nbanana\nbanana\nbanana\nbanana\nbanana\nbanana\nbanana\nbanana\nbanana\nbanana\nbanana\nbanana\nbanana\nbanana\nbanana\nbanana\nbanana\nbanana\nbanana\nbanana\nbanana\nbanana\nbanana\nbanana\nbanana\nbanana\nbanana\nbanana\nbanana\napple\napple\napple\napple\nbanana\nbanana\nbanana\nbanana\nbanana\nbanana\nbanana\nbanana\nbanana\nbanana\nbanana\nbanana\nbanana\nbanana\nbanana\nbanana\nbanana\nbanana\nbanana\nbanana\nbanana\nbanana\nbanana\nbanana\nbanana\napple\nbanana\nbanana\nbanana\nbanana\nbanana\nbanana\nbanana\nbanana\nbanana\nbanana\nbanana\nbanana\nbanana\nbanana\nbanana\nbanana\nbanana\nbanana\nbanana\nbanana\nbanana\nbanana\nbanana\nbanana\nbanana\nbanana\nbanana\nbanana\nbanana\nbanana\nbanana\nbanana\nbanana\nbanana\nbanana\nbanana\nbanana\nbanana\nbanana\nbanana\nbanana\nbanana\nbanana\nbanana\nbanana\nbanana\nbanana\nbanana\nbanana\nbanana\nbanana\nbanana\nbanana\nbanana\nbanana\napple\napple\napple\napple\napple\napple\napple\napple\napple\napple\napple\napple\napple\nbanana\nbanana\nbanana\nbanana\nbanana\nbanana\nbanana\nbanana\nbanana\nbanana\nbanana\nbanana\nbanana\nbanana\nbanana\nbanana\nbanana\nbanana\nbanana\nbanana\nbanana\nbanana\nbanana\nbanana\nbanana\nbanana\nbanana\nbanana\nbanana\nbanana\nbanana\nbanana\nbanana\nbanana\nbanana\nbanana\nbanana\nbanana\nbanana\nbanana\napple\napple\napple\napple\napple\napple\napple\napple\napple\napple\napple\napple\napple\napple\napple\napple\napple\napple\napple\napple\napple\napple\napple\napple\n"
    }
   ],
   "source": [
    "cap = cv2.VideoCapture(0)\n",
    "model = keras.models.load_model(\"applebanana.hdf5\")\n",
    "while(True):\n",
    "    X = []\n",
    "    ret, frame = cap.read()\n",
    "    cv2.imshow(\"frame\", frame)\n",
    "    frame = cv2.cvtColor(frame, cv2.COLOR_BGR2RGB)\n",
    "    frame = cv2.resize(frame, (50,50))\n",
    "    frame = np.asarray(frame)\n",
    "    testimg = frame\n",
    "    X.append(testimg.flatten())\n",
    "    X = np.array(X) / 255\n",
    "\n",
    "    result = model.predict_classes(X)\n",
    "\n",
    "    if result == 0:\n",
    "        print(\"apple\")\n",
    "    elif result == 1:\n",
    "        print(\"banana\")\n",
    "    else:\n",
    "        print(\"no found\")\n",
    "    \n",
    "    k = cv2.waitKey(1)\n",
    "    if k == 27: break\n",
    "\n",
    "cap.release()\n",
    "cv2.destroyAllWindows()\n",
    "\n",
    "    "
   ]
  },
  {
   "cell_type": "code",
   "execution_count": null,
   "metadata": {},
   "outputs": [],
   "source": []
  }
 ]
}